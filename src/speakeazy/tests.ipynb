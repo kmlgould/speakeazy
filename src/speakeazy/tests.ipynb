{
 "cells": [
  {
   "cell_type": "code",
   "execution_count": null,
   "metadata": {},
   "outputs": [],
   "source": [
    "import numpy as np\n",
    "import matplotlib.pyplot as plt\n",
    "from scipy.stats import norm \n",
    "\n",
    "# test for new prior function - redshift prior is basically set by observed line width \n",
    "\n",
    "#spec_wobs = norm(loc=3.,scale=0.05)\n",
    "\n",
    "#xrange = np.linspace(2.,4.,100)\n",
    "\n",
    "#pobs = spec_wobs.pdf(xrange)\n",
    "\n",
    "#plt.plot(xrange,pobs)\n",
    "#plt.show()\n",
    "\n",
    "# halpha rest wavelength is 0.65\n",
    "\n",
    "##rest = 0.65 \n",
    "\n",
    "#pz = (pobs/rest)-1.\n",
    "\n",
    "#plt.plot(xrange,pz)\n",
    "#plt.show()\n",
    "\n",
    "rest = 0.65 \n",
    "pl = np.random.normal(loc=3.,scale=0.05,size=1000)\n",
    "\n",
    "plt.hist(pl,histtype='step',bins=np.arange(2.5,3.5,0.01))\n",
    "plt.show()\n",
    "\n",
    "pz = (pl/rest)-1.\n",
    "\n",
    "plt.hist(pz,histtype='step')\n",
    "plt.show()\n"
   ]
  },
  {
   "cell_type": "code",
   "execution_count": null,
   "metadata": {},
   "outputs": [],
   "source": [
    "nsamp = 64\n",
    "xline = np.linspace(-nsamp, nsamp, 2*nsamp+1)/nsamp*0.1+1\n",
    "yline = xline*0.\n",
    "yline[nsamp] = 1\n",
    "yline /= np.trapz(yline, xline)"
   ]
  },
  {
   "cell_type": "code",
   "execution_count": null,
   "metadata": {},
   "outputs": [],
   "source": [
    "plt.plot(xline,yline)"
   ]
  },
  {
   "cell_type": "code",
   "execution_count": null,
   "metadata": {},
   "outputs": [],
   "source": [
    "print(nsamp*0.1+1)"
   ]
  },
  {
   "cell_type": "code",
   "execution_count": null,
   "metadata": {},
   "outputs": [],
   "source": [
    "print(xline)"
   ]
  },
  {
   "cell_type": "code",
   "execution_count": null,
   "metadata": {},
   "outputs": [],
   "source": [
    "print(np.trapz(yline, xline))"
   ]
  },
  {
   "cell_type": "code",
   "execution_count": null,
   "metadata": {},
   "outputs": [],
   "source": [
    "import os\n",
    "from grizli import utils"
   ]
  },
  {
   "cell_type": "code",
   "execution_count": null,
   "metadata": {},
   "outputs": [],
   "source": [
    "def resample_template_numba(spec_wobs, spec_R_fwhm, templ_wobs, templ_flux, velocity_sigma=100, nsig=5, fill_value=0.):\n",
    "    \"\"\"\n",
    "    Resample a high resolution template/model on the wavelength grid of a\n",
    "    spectrum with (potentially) wavelength dependent dispersion\n",
    "    \n",
    "    Parameters\n",
    "    ----------\n",
    "    spec_wobs : array-like\n",
    "        Spectrum wavelengths\n",
    "    \n",
    "    spec_R_fwhm : array-like\n",
    "        Spectral resolution `wave/d(wave)`, FWHM\n",
    "    \n",
    "    templ_wobs : array-like\n",
    "        Template wavelengths, observed frame.  Same units as `spec_wobs`.  \n",
    "        **NB:** both `spec_wobs` and `templ_wobs` assumed to be sorted!\n",
    "    \n",
    "    templ_flux : array-like\n",
    "        Template flux densities sampled at `templ_wobs`\n",
    "    \n",
    "    velocity_sigma : float\n",
    "        Kinematic velocity width, km/s\n",
    "    \n",
    "    nsig : float\n",
    "        Number of sigmas of the Gaussian convolution kernel to sample\n",
    "    \n",
    "    Returns\n",
    "    -------\n",
    "    resamp : array-like\n",
    "        Template resampled at the `spec_wobs` wavelengths, convolved with a \n",
    "        Gaussian kernel with sigma width\n",
    "        \n",
    "        >>> Rw = 1./np.sqrt((velocity_sigma/3.e5)**2 + 1./(spec_R_fwhm*2.35)**2)\n",
    "        >>> dw = spec_wobs / Rw\n",
    "    \n",
    "    \"\"\"    \n",
    "    dw = np.sqrt((velocity_sigma/3.e5)**2 + (1./2.35/spec_R_fwhm)**2)*spec_wobs\n",
    "    \n",
    "    #Rw = 1./np.sqrt((velocity_sigma/3.e5)**2 + 1./(spec_R_fwhm*2.35)**2)\n",
    "    # dw = spec_wobs / Rw\n",
    "    \n",
    "    ilo = 0\n",
    "    ihi = 1\n",
    "    \n",
    "    N = len(spec_wobs)\n",
    "    resamp = np.zeros_like(spec_wobs)*fill_value\n",
    "    \n",
    "    Nt = len(templ_wobs)\n",
    "    \n",
    "    for i in range(N):\n",
    "        #sl = slice(ilo[i], ihi[i])\n",
    "        while (templ_wobs[ilo] < spec_wobs[i]-nsig*dw[i]) & (ilo < Nt-1):\n",
    "            ilo += 1\n",
    "        \n",
    "        if ilo == 0:\n",
    "            continue\n",
    "            \n",
    "        ilo -= 1\n",
    "        \n",
    "        while (templ_wobs[ihi] < spec_wobs[i]+nsig*dw[i]) & (ihi < Nt):\n",
    "            ihi += 1\n",
    "        \n",
    "        if (ilo >= ihi):\n",
    "            resamp[i] = templ_flux[ihi]\n",
    "            continue\n",
    "        elif (ilo == Nt-1):\n",
    "            break\n",
    "            \n",
    "        sl = slice(ilo, ihi)\n",
    "        lsl = templ_wobs[sl]\n",
    "        g = np.exp(-(lsl-spec_wobs[i])**2/2/dw[i]**2)/np.sqrt(2*np.pi*dw[i]**2)\n",
    "        # g *= 1./np.sqrt(2*np.pi*dw[i]**2) \n",
    "        resamp[i] = np.trapz(templ_flux[sl]*g, lsl)\n",
    "        \n",
    "    return resamp"
   ]
  },
  {
   "cell_type": "code",
   "execution_count": null,
   "metadata": {},
   "outputs": [],
   "source": [
    "res = self.resample_func(spec_wobs,\n",
    "                                 spec_R_fwhm*scale_disp, \n",
    "                                 self.xline*line_um,\n",
    "                                 self.yline,\n",
    "                                 velocity_sigma=velocity_sigma,\n",
    "                                 nsig=nsig)"
   ]
  },
  {
   "cell_type": "code",
   "execution_count": null,
   "metadata": {},
   "outputs": [],
   "source": [
    "import data\n",
    "import os\n",
    "import numpy as np\n",
    "from scipy.interpolate import UnivariateSpline"
   ]
  },
  {
   "cell_type": "code",
   "execution_count": null,
   "metadata": {},
   "outputs": [],
   "source": [
    "\n",
    "test = data.Data(spectrum_file=os.path.abspath('../test_data/macs0417.1208_340.v0.spec.fits'),photometry_file=None,run_ID=1,phot_id=None)"
   ]
  },
  {
   "cell_type": "code",
   "execution_count": null,
   "metadata": {},
   "outputs": [],
   "source": [
    "import matplotlib.pyplot as plt\n",
    "\n",
    "plt.plot(test.spec_wobs,test.spec_fnu)"
   ]
  },
  {
   "cell_type": "code",
   "execution_count": null,
   "metadata": {},
   "outputs": [],
   "source": [
    "x1 = 1.575\n",
    "x2 = 1.675\n",
    "\n",
    "xsel = (test.spec_wobs>x1) & (test.spec_wobs<x2)\n",
    "plt.scatter(test.spec_wobs[xsel],test.spec_fnu[xsel]-4.)"
   ]
  },
  {
   "cell_type": "code",
   "execution_count": null,
   "metadata": {},
   "outputs": [],
   "source": [
    "x = test.spec_wobs[xsel]\n",
    "y = test.spec_fnu[xsel]\n",
    "\n",
    "\n",
    "spline = UnivariateSpline(x, y-np.max(y)/2, s=0)\n",
    "r1, r2 = spline.roots() # find the roots"
   ]
  },
  {
   "cell_type": "code",
   "execution_count": null,
   "metadata": {},
   "outputs": [],
   "source": [
    "spline"
   ]
  },
  {
   "cell_type": "code",
   "execution_count": null,
   "metadata": {},
   "outputs": [],
   "source": [
    "r1"
   ]
  },
  {
   "cell_type": "code",
   "execution_count": null,
   "metadata": {},
   "outputs": [],
   "source": [
    "r2"
   ]
  },
  {
   "cell_type": "code",
   "execution_count": null,
   "metadata": {},
   "outputs": [],
   "source": [
    "plt.plot(x,y)\n",
    "plt.axvspan(r1, r2, facecolor='g', alpha=0.5)\n",
    "plt.show()"
   ]
  },
  {
   "cell_type": "code",
   "execution_count": null,
   "metadata": {},
   "outputs": [],
   "source": [
    "ymax = np.nanmax(y)\n",
    "\n",
    "hm = ymax/2.\n",
    "\n",
    "# then find intersection of hm with x/y curve. "
   ]
  },
  {
   "cell_type": "code",
   "execution_count": null,
   "metadata": {},
   "outputs": [],
   "source": [
    "def get_full_width(x: np.ndarray, y: np.ndarray, height: float = 0.5) -> float:\n",
    "    height_half_max = np.max(y) * height\n",
    "    index_max = np.argmax(y)\n",
    "    x_low = np.interp(height_half_max, y[:index_max+1], x[:index_max+1])\n",
    "    x_high = np.interp(height_half_max, np.flip(y[index_max:]), np.flip(x[index_max:]))\n",
    "\n",
    "    return x_low,x_high,x_high - x_low\n"
   ]
  },
  {
   "cell_type": "code",
   "execution_count": null,
   "metadata": {},
   "outputs": [],
   "source": [
    "x1,x2,fwhm = get_full_width(x,y-4.)"
   ]
  },
  {
   "cell_type": "code",
   "execution_count": null,
   "metadata": {},
   "outputs": [],
   "source": [
    "plt.plot(x,y-4.)\n",
    "plt.axvspan(x1, x2, facecolor='g', alpha=0.5)\n",
    "plt.show()"
   ]
  },
  {
   "cell_type": "code",
   "execution_count": 1,
   "metadata": {},
   "outputs": [
    {
     "name": "stdout",
     "output_type": "stream",
     "text": [
      "msaexp version = 0.6.9\n",
      "numpy version = 1.23.5\n",
      "msaexp version = 0.6.9\n",
      "numpy version = 1.23.5\n",
      "msaexp version = 0.6.9\n",
      "numpy version = 1.23.5\n",
      "msaexp version = 0.6.9\n",
      "numpy version = 1.23.5\n"
     ]
    }
   ],
   "source": [
    "import data\n",
    "import fitting\n",
    "import os "
   ]
  },
  {
   "cell_type": "code",
   "execution_count": 2,
   "metadata": {},
   "outputs": [
    {
     "name": "stdout",
     "output_type": "stream",
     "text": [
      "spec1d found\n",
      "Reading in spectrum with grating prism/clear combination\n",
      "No photometry found\n"
     ]
    }
   ],
   "source": [
    "test = data.Data(spectrum_file=os.path.abspath('../noname/test_data/macs0417.1208_340.v0.spec.fits'),photometry_file=None,run_ID=1,phot_id=None)"
   ]
  },
  {
   "cell_type": "code",
   "execution_count": null,
   "metadata": {},
   "outputs": [],
   "source": []
  },
  {
   "cell_type": "code",
   "execution_count": null,
   "metadata": {},
   "outputs": [],
   "source": []
  }
 ],
 "metadata": {
  "kernelspec": {
   "display_name": "Python 3",
   "language": "python",
   "name": "python3"
  },
  "language_info": {
   "codemirror_mode": {
    "name": "ipython",
    "version": 3
   },
   "file_extension": ".py",
   "mimetype": "text/x-python",
   "name": "python",
   "nbconvert_exporter": "python",
   "pygments_lexer": "ipython3",
   "version": "3.9.16"
  },
  "orig_nbformat": 4
 },
 "nbformat": 4,
 "nbformat_minor": 2
}
