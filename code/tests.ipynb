{
 "cells": [
  {
   "cell_type": "code",
   "execution_count": null,
   "metadata": {},
   "outputs": [],
   "source": [
    "import numpy as np\n",
    "import matplotlib.pyplot as plt\n",
    "from scipy.stats import norm \n",
    "\n",
    "# test for new prior function - redshift prior is basically set by observed line width \n",
    "\n",
    "#spec_wobs = norm(loc=3.,scale=0.05)\n",
    "\n",
    "#xrange = np.linspace(2.,4.,100)\n",
    "\n",
    "#pobs = spec_wobs.pdf(xrange)\n",
    "\n",
    "#plt.plot(xrange,pobs)\n",
    "#plt.show()\n",
    "\n",
    "# halpha rest wavelength is 0.65\n",
    "\n",
    "##rest = 0.65 \n",
    "\n",
    "#pz = (pobs/rest)-1.\n",
    "\n",
    "#plt.plot(xrange,pz)\n",
    "#plt.show()\n",
    "\n",
    "rest = 0.65 \n",
    "pl = np.random.normal(loc=3.,scale=0.05,size=1000)\n",
    "\n",
    "plt.hist(pl,histtype='step',bins=np.arange(2.5,3.5,0.01))\n",
    "plt.show()\n",
    "\n",
    "pz = (pl/rest)-1.\n",
    "\n",
    "plt.hist(pz,histtype='step')\n",
    "plt.show()\n"
   ]
  },
  {
   "cell_type": "code",
   "execution_count": null,
   "metadata": {},
   "outputs": [],
   "source": [
    "nsamp = 64\n",
    "xline = np.linspace(-nsamp, nsamp, 2*nsamp+1)/nsamp*0.1+1\n",
    "yline = xline*0.\n",
    "yline[nsamp] = 1\n",
    "yline /= np.trapz(yline, xline)"
   ]
  },
  {
   "cell_type": "code",
   "execution_count": null,
   "metadata": {},
   "outputs": [],
   "source": [
    "plt.plot(xline,yline)"
   ]
  },
  {
   "cell_type": "code",
   "execution_count": null,
   "metadata": {},
   "outputs": [],
   "source": [
    "print(nsamp*0.1+1)"
   ]
  },
  {
   "cell_type": "code",
   "execution_count": null,
   "metadata": {},
   "outputs": [],
   "source": [
    "print(xline)"
   ]
  },
  {
   "cell_type": "code",
   "execution_count": null,
   "metadata": {},
   "outputs": [],
   "source": [
    "print(np.trapz(yline, xline))"
   ]
  },
  {
   "cell_type": "code",
   "execution_count": null,
   "metadata": {},
   "outputs": [],
   "source": [
    "import os\n",
    "from grizli import utils"
   ]
  },
  {
   "cell_type": "code",
   "execution_count": null,
   "metadata": {},
   "outputs": [],
   "source": [
    "def resample_template_numba(spec_wobs, spec_R_fwhm, templ_wobs, templ_flux, velocity_sigma=100, nsig=5, fill_value=0.):\n",
    "    \"\"\"\n",
    "    Resample a high resolution template/model on the wavelength grid of a\n",
    "    spectrum with (potentially) wavelength dependent dispersion\n",
    "    \n",
    "    Parameters\n",
    "    ----------\n",
    "    spec_wobs : array-like\n",
    "        Spectrum wavelengths\n",
    "    \n",
    "    spec_R_fwhm : array-like\n",
    "        Spectral resolution `wave/d(wave)`, FWHM\n",
    "    \n",
    "    templ_wobs : array-like\n",
    "        Template wavelengths, observed frame.  Same units as `spec_wobs`.  \n",
    "        **NB:** both `spec_wobs` and `templ_wobs` assumed to be sorted!\n",
    "    \n",
    "    templ_flux : array-like\n",
    "        Template flux densities sampled at `templ_wobs`\n",
    "    \n",
    "    velocity_sigma : float\n",
    "        Kinematic velocity width, km/s\n",
    "    \n",
    "    nsig : float\n",
    "        Number of sigmas of the Gaussian convolution kernel to sample\n",
    "    \n",
    "    Returns\n",
    "    -------\n",
    "    resamp : array-like\n",
    "        Template resampled at the `spec_wobs` wavelengths, convolved with a \n",
    "        Gaussian kernel with sigma width\n",
    "        \n",
    "        >>> Rw = 1./np.sqrt((velocity_sigma/3.e5)**2 + 1./(spec_R_fwhm*2.35)**2)\n",
    "        >>> dw = spec_wobs / Rw\n",
    "    \n",
    "    \"\"\"    \n",
    "    dw = np.sqrt((velocity_sigma/3.e5)**2 + (1./2.35/spec_R_fwhm)**2)*spec_wobs\n",
    "    \n",
    "    #Rw = 1./np.sqrt((velocity_sigma/3.e5)**2 + 1./(spec_R_fwhm*2.35)**2)\n",
    "    # dw = spec_wobs / Rw\n",
    "    \n",
    "    ilo = 0\n",
    "    ihi = 1\n",
    "    \n",
    "    N = len(spec_wobs)\n",
    "    resamp = np.zeros_like(spec_wobs)*fill_value\n",
    "    \n",
    "    Nt = len(templ_wobs)\n",
    "    \n",
    "    for i in range(N):\n",
    "        #sl = slice(ilo[i], ihi[i])\n",
    "        while (templ_wobs[ilo] < spec_wobs[i]-nsig*dw[i]) & (ilo < Nt-1):\n",
    "            ilo += 1\n",
    "        \n",
    "        if ilo == 0:\n",
    "            continue\n",
    "            \n",
    "        ilo -= 1\n",
    "        \n",
    "        while (templ_wobs[ihi] < spec_wobs[i]+nsig*dw[i]) & (ihi < Nt):\n",
    "            ihi += 1\n",
    "        \n",
    "        if (ilo >= ihi):\n",
    "            resamp[i] = templ_flux[ihi]\n",
    "            continue\n",
    "        elif (ilo == Nt-1):\n",
    "            break\n",
    "            \n",
    "        sl = slice(ilo, ihi)\n",
    "        lsl = templ_wobs[sl]\n",
    "        g = np.exp(-(lsl-spec_wobs[i])**2/2/dw[i]**2)/np.sqrt(2*np.pi*dw[i]**2)\n",
    "        # g *= 1./np.sqrt(2*np.pi*dw[i]**2) \n",
    "        resamp[i] = np.trapz(templ_flux[sl]*g, lsl)\n",
    "        \n",
    "    return resamp"
   ]
  },
  {
   "cell_type": "code",
   "execution_count": null,
   "metadata": {},
   "outputs": [],
   "source": [
    "res = self.resample_func(spec_wobs,\n",
    "                                 spec_R_fwhm*scale_disp, \n",
    "                                 self.xline*line_um,\n",
    "                                 self.yline,\n",
    "                                 velocity_sigma=velocity_sigma,\n",
    "                                 nsig=nsig)"
   ]
  },
  {
   "cell_type": "code",
   "execution_count": 2,
   "metadata": {},
   "outputs": [
    {
     "name": "stdout",
     "output_type": "stream",
     "text": [
      "msaexp version = 0.6.9\n",
      "numpy version = 1.23.5\n"
     ]
    }
   ],
   "source": [
    "import data\n",
    "import os"
   ]
  },
  {
   "cell_type": "code",
   "execution_count": 3,
   "metadata": {},
   "outputs": [
    {
     "name": "stdout",
     "output_type": "stream",
     "text": [
      "spec1d found\n",
      "Reading in spectrum with grating prism/clear combination\n",
      "No photometry found\n"
     ]
    }
   ],
   "source": [
    "\n",
    "test = data.Data(spectrum_file=os.path.abspath('../test_data/macs0417.1208_340.v0.spec.fits'),photometry_file=None,run_ID=1,phot_id=None)"
   ]
  },
  {
   "cell_type": "code",
   "execution_count": 6,
   "metadata": {},
   "outputs": [
    {
     "data": {
      "text/plain": [
       "array([ 0.        ,  0.        ,  0.        ,  0.        ,  0.        ,\n",
       "        0.        ,  0.        ,  0.17572327,  0.15336145,  0.18460391,\n",
       "        0.23012993,  0.28905913,  0.29652712,  0.2690856 ,  0.283257  ,\n",
       "        0.32154623,  0.33469117,  0.3696483 ,  0.3868451 ,  0.44534287,\n",
       "        0.4477027 ,  0.45536223,  0.5063964 ,  0.51536393,  0.49446452,\n",
       "        0.54499245,  0.56930804,  0.6258007 ,  0.64080065,  0.65835893,\n",
       "        0.66499215,  0.71782726,  0.73695797,  0.7375102 ,  0.80516523,\n",
       "        0.9158398 ,  1.0523053 ,  1.1748568 ,  1.1732209 ,  1.3004771 ,\n",
       "        1.3529545 ,  1.3741347 ,  1.4067327 ,  1.4903766 ,  1.5593704 ,\n",
       "        1.6134467 ,  1.6262648 ,  1.7154367 ,  1.7527344 ,  1.7957207 ,\n",
       "        1.84026   ,  1.8412802 ,  1.8329778 ,  1.8970834 ,  1.9236703 ,\n",
       "        1.9500153 ,  1.9932832 ,  2.0105572 ,  2.1612906 ,  2.2104044 ,\n",
       "        2.2125344 ,  2.2777584 ,  2.3481982 ,  2.4041266 ,  2.5258234 ,\n",
       "        2.6546183 ,  2.7390873 ,  2.9868345 ,  3.0133734 ,  2.8851652 ,\n",
       "        2.716738  ,  2.555439  ,  2.5553274 ,  2.6482463 ,  2.7381372 ,\n",
       "        2.843045  ,  2.9752934 ,  3.069866  ,  3.0377352 ,  2.9909365 ,\n",
       "        2.9621966 ,  3.043444  ,  3.1310098 ,  3.2147174 ,  3.347607  ,\n",
       "        3.3795063 ,  3.380377  ,  3.4318612 ,  3.4789016 ,  3.4016168 ,\n",
       "        3.420171  ,  3.4676173 ,  3.6712558 ,  3.7803872 ,  3.7999332 ,\n",
       "        3.836203  ,  3.8933005 ,  3.829874  ,  3.8930228 ,  4.0653725 ,\n",
       "        4.0906167 ,  4.0763264 ,  4.182728  ,  4.521282  ,  6.1931024 ,\n",
       "        7.2373257 ,  9.02961   ,  8.782374  ,  6.5144186 ,  5.6373177 ,\n",
       "        5.001918  ,  4.8115    ,  4.4054527 ,  4.27727   ,  4.2410293 ,\n",
       "        4.3518777 ,  4.4121523 ,  4.479885  ,  4.4389553 ,  4.5519037 ,\n",
       "        4.480228  ,  4.4868503 ,  4.564417  ,  4.6670976 ,  4.67924   ,\n",
       "        4.900936  ,  4.9988637 ,  4.8800974 ,  4.9222426 ,  5.048021  ,\n",
       "        4.7855935 ,  4.8689194 ,  4.994287  ,  4.8850107 ,  5.018369  ,\n",
       "        5.047079  ,  5.0681586 ,  5.2078323 ,  5.176645  ,  5.169922  ,\n",
       "        5.203711  ,  5.184017  ,  5.3583245 ,  5.5011506 ,  5.5412374 ,\n",
       "        5.434505  ,  5.3824553 ,  5.5372586 ,  5.663002  ,  5.7526264 ,\n",
       "        5.6705217 ,  5.6475806 ,  5.6848063 ,  5.737889  ,  5.775899  ,\n",
       "        5.8421946 ,  5.8539577 ,  5.8582    ,  5.880066  ,  6.006972  ,\n",
       "        6.403242  ,  6.523033  ,  6.511679  ,  6.437533  ,  6.5134554 ,\n",
       "        6.821034  ,  7.1340494 ,  7.4199667 ,  7.490601  ,  7.2320533 ,\n",
       "        6.970731  ,  6.769783  ,  6.8997803 ,  6.850273  ,  6.8906775 ,\n",
       "        6.8435283 ,  6.8062644 ,  7.3934574 ,  8.5499735 ,  8.655767  ,\n",
       "        8.274215  ,  7.530277  ,  7.160749  ,  7.219452  ,  7.4358864 ,\n",
       "        7.461544  ,  7.602892  ,  7.6721487 ,  7.7709856 ,  7.7680154 ,\n",
       "        7.92177   ,  8.202889  ,  8.36628   ,  8.347636  ,  8.011645  ,\n",
       "        7.9573245 ,  8.103145  ,  8.173609  ,  8.152365  ,  8.292381  ,\n",
       "        8.353373  ,  8.135344  ,  8.284352  ,  8.345866  ,  8.446405  ,\n",
       "        8.5901985 ,  8.670066  ,  8.434799  ,  8.577393  ,  9.392867  ,\n",
       "       10.360438  , 10.788683  ,  9.853529  ,  8.925296  ,  8.578043  ,\n",
       "        7.863273  ,  8.017359  ,  8.118789  ,  8.314174  ,  8.446279  ,\n",
       "        8.622966  ,  8.366957  ,  8.30478   ,  8.211759  ,  8.106939  ,\n",
       "        8.401148  ,  8.850779  ,  8.674994  ,  9.008366  ,  8.739731  ,\n",
       "        8.999085  ,  8.629168  ,  8.7843075 ,  9.01779   ,  9.293297  ,\n",
       "        9.156323  ,  9.47633   ,  9.130685  ,  9.175693  ,  8.320894  ,\n",
       "        8.98176   ,  8.427248  ,  9.09045   ,  8.922636  ,  9.395286  ,\n",
       "        9.561917  ,  9.436039  ,  9.153674  ,  9.399772  ,  9.442661  ,\n",
       "        9.792063  ,  9.485486  , 10.086063  , 10.383431  , 10.037969  ,\n",
       "        9.445341  ,  9.488987  ,  9.810212  , 10.461932  , 12.143077  ,\n",
       "       11.765653  , 10.377255  , 10.011121  , 10.051594  , 10.031683  ,\n",
       "       10.100861  ,  9.991216  ,  9.651123  , 10.073054  ,  9.88705   ,\n",
       "        9.668265  ,  9.920448  ,  9.905495  ,  9.762568  , 10.029903  ,\n",
       "        9.972816  , 10.106291  , 10.08882   ,  9.902439  ,  9.386742  ,\n",
       "       10.107624  , 10.216811  , 10.219037  , 10.4038315 , 10.460883  ,\n",
       "       10.202643  , 10.093662  , 10.0886965 ,  9.90778   ,  9.859538  ,\n",
       "        9.736902  ,  9.687626  ,  9.406666  ,  9.506044  ,  9.138101  ,\n",
       "        9.542482  ,  9.855568  ,  9.821678  , 10.035474  ,  9.828861  ,\n",
       "        9.901511  ,  9.836199  ,  9.9007845 ,  9.47639   ,  9.588062  ,\n",
       "        9.483105  ,  9.624559  ,  9.711635  , 10.078566  , 10.465884  ,\n",
       "       10.239978  , 10.622868  , 10.452544  , 10.167553  ,  9.872008  ,\n",
       "       10.122564  , 10.578189  , 10.293955  , 10.393389  , 10.117787  ,\n",
       "       10.394815  , 10.092752  , 10.360017  , 10.726624  , 10.825401  ,\n",
       "       10.802781  , 10.653919  ,  9.57993   , 10.462147  , 11.252558  ,\n",
       "       10.132655  , 10.712731  , 10.788439  , 10.809125  ,  9.49966   ,\n",
       "       10.624915  , 11.041262  , 10.7133255 , 10.677442  , 10.991402  ,\n",
       "       11.128588  , 11.638725  , 10.663557  , 10.62415   , 11.000982  ,\n",
       "       10.650098  , 11.378666  , 11.804247  , 12.771261  , 12.24902   ,\n",
       "       11.302988  , 11.268223  , 11.475371  , 10.874551  , 11.193804  ,\n",
       "       11.264706  , 11.206934  , 11.37009   , 11.45599   , 11.077588  ,\n",
       "       11.362659  , 11.477215  , 11.2463    , 11.647244  , 10.606917  ,\n",
       "       11.314439  , 11.656735  , 11.321908  , 10.311461  , 10.939139  ,\n",
       "       10.955801  , 10.701387  , 10.940432  , 11.102676  , 10.42365   ,\n",
       "       10.537381  , 12.354717  , 11.402547  , 10.760969  , 10.593659  ,\n",
       "       10.327158  , 10.335381  ,  9.737914  ,  8.812917  , 10.027132  ,\n",
       "       11.27042   , 10.546115  , 10.326443  , 10.779978  , 11.348233  ,\n",
       "       10.6692505 , 10.692509  , 10.569267  , 10.307054  , 10.641029  ,\n",
       "       10.677576  , 10.299957  , 10.113971  , 10.033592  , 10.3621235 ,\n",
       "       10.17039   , 10.053126  , 10.432567  , 10.455889  , 19.939903  ,\n",
       "       25.77575   , 13.079954  ,  9.903508  , 10.38139   , 10.1919565 ,\n",
       "       10.095652  , 10.102617  , 10.145398  ,  9.813272  , 10.397341  ,\n",
       "       10.3559885 ,  9.347879  ,  9.710084  ,  9.02231   , 10.019365  ,\n",
       "       10.021934  ,  9.547983  , 11.512564  , 10.235595  , 10.084878  ,\n",
       "        9.902481  ,  9.776326  ,  9.535124  ,  9.596908  ,  9.981145  ,\n",
       "        9.657861  ,  9.590161  ,  9.143549  ,  9.762603  ,  9.53763   ,\n",
       "        9.245179  , 10.159997  , 10.105554  ,  9.7539625 ,  9.883781  ,\n",
       "        9.913293  ,  9.795833  ,  9.413851  , 10.358812  ,  9.857394  ,\n",
       "        9.566212  , 10.084122  , 10.539095  ,  9.6271715 , 10.212516  ,\n",
       "       10.551192  ,  9.837725  , 10.468831  , 10.210687  , 11.081128  ,\n",
       "       11.051975  ,  9.612192  ,  9.630295  ,  9.439485  , 10.063549  ,\n",
       "       10.547238  ,  9.7159    ,  8.941529  ,  9.379514  , 10.088491  ,\n",
       "       10.0964575 ,  9.316126  ,  8.695168  ,  8.221811  ,  8.840746  ,\n",
       "        8.207928  ,  0.        ,  0.        ,  0.        ,  0.        ,\n",
       "        0.        ,  0.        ,  0.        ,  0.        ,  0.        ],\n",
       "      dtype=float32)"
      ]
     },
     "execution_count": 6,
     "metadata": {},
     "output_type": "execute_result"
    }
   ],
   "source": [
    "test.spec_fnu"
   ]
  },
  {
   "cell_type": "code",
   "execution_count": 3,
   "metadata": {},
   "outputs": [
    {
     "name": "stdout",
     "output_type": "stream",
     "text": [
      "spec1d found\n",
      "Reading in spectrum with grating prism/clear combination\n"
     ]
    }
   ],
   "source": [
    "spec = test.initialize_spec()"
   ]
  },
  {
   "cell_type": "code",
   "execution_count": 4,
   "metadata": {},
   "outputs": [
    {
     "data": {
      "text/plain": [
       "<data.Data at 0x7f88edd39fa0>"
      ]
     },
     "execution_count": 4,
     "metadata": {},
     "output_type": "execute_result"
    }
   ],
   "source": [
    "test"
   ]
  },
  {
   "cell_type": "code",
   "execution_count": 5,
   "metadata": {},
   "outputs": [
    {
     "data": {
      "text/plain": [
       "array([0.55303764, 0.5630819 , 0.5731262 , 0.5831705 , 0.59321475,\n",
       "       0.603259  , 0.6133033 , 0.6233476 , 0.63339186, 0.64343613,\n",
       "       0.6534804 , 0.6635247 , 0.67356896, 0.68361324, 0.6936575 ,\n",
       "       0.7037018 , 0.7137461 , 0.72379035, 0.7338346 , 0.7438789 ,\n",
       "       0.7539232 , 0.76396745, 0.77401173, 0.784056  , 0.7941003 ,\n",
       "       0.80414456, 0.81418884, 0.8242331 , 0.83427745, 0.8443217 ,\n",
       "       0.854366  , 0.8644103 , 0.87445456, 0.88449883, 0.8945431 ,\n",
       "       0.9045874 , 0.91463166, 0.92467594, 0.9347202 , 0.9447645 ,\n",
       "       0.9548088 , 0.96485305, 0.9748973 , 0.9849416 , 0.9949859 ,\n",
       "       1.0050302 , 1.0150745 , 1.0251187 , 1.035163  , 1.0452073 ,\n",
       "       1.0552516 , 1.0652958 , 1.0753402 , 1.0853844 , 1.0954287 ,\n",
       "       1.1054729 , 1.1155173 , 1.1255615 , 1.1356058 , 1.14565   ,\n",
       "       1.1556944 , 1.1657386 , 1.1757829 , 1.1858271 , 1.1958715 ,\n",
       "       1.2059157 , 1.21596   , 1.2260042 , 1.2360486 , 1.2460928 ,\n",
       "       1.2561371 , 1.2661813 , 1.2762257 , 1.28627   , 1.2963142 ,\n",
       "       1.3063586 , 1.3164028 , 1.3264471 , 1.3364913 , 1.3465357 ,\n",
       "       1.3565799 , 1.3666242 , 1.3766685 , 1.3867128 , 1.396757  ,\n",
       "       1.4068013 , 1.4168456 , 1.4268899 , 1.4369341 , 1.4469784 ,\n",
       "       1.4570227 , 1.467067  , 1.4771112 , 1.4871556 , 1.4971998 ,\n",
       "       1.5072441 , 1.5172883 , 1.5273327 , 1.5373769 , 1.5474212 ,\n",
       "       1.5574654 , 1.5675098 , 1.577554  , 1.5875983 , 1.5976427 ,\n",
       "       1.6076869 , 1.6177312 , 1.6277754 , 1.6378198 , 1.647864  ,\n",
       "       1.6579083 , 1.6679525 , 1.6779969 , 1.6880411 , 1.6980854 ,\n",
       "       1.7081296 , 1.718174  , 1.7282182 , 1.7382625 , 1.7483068 ,\n",
       "       1.7583511 , 1.7683953 , 1.7784396 , 1.7884839 , 1.7985282 ,\n",
       "       1.8085724 , 1.8186167 , 1.828661  , 1.8387053 , 1.8487495 ,\n",
       "       1.8587939 , 1.8688381 , 1.8788824 , 1.8889267 , 1.898971  ,\n",
       "       1.9090153 , 1.9190595 , 1.9291039 , 1.9391481 , 1.9491924 ,\n",
       "       1.9592366 , 1.969281  , 1.9793252 , 1.9893695 , 1.9994137 ,\n",
       "       2.009458  , 2.0195024 , 2.0295465 , 2.0395908 , 2.0496352 ,\n",
       "       2.0596795 , 2.0697236 , 2.079768  , 2.0898123 , 2.0998566 ,\n",
       "       2.1099007 , 2.119945  , 2.1299894 , 2.1400337 , 2.1500778 ,\n",
       "       2.1601222 , 2.1701665 , 2.1802108 , 2.1902552 , 2.2002993 ,\n",
       "       2.2103436 , 2.220388  , 2.2304323 , 2.2404764 , 2.2505207 ,\n",
       "       2.260565  , 2.2706094 , 2.2806535 , 2.2906978 , 2.3007421 ,\n",
       "       2.3107865 , 2.3208306 , 2.330875  , 2.3409193 , 2.3509636 ,\n",
       "       2.3610077 , 2.371052  , 2.3810964 , 2.3911407 , 2.4011848 ,\n",
       "       2.4112291 , 2.4212735 , 2.4313178 , 2.441362  , 2.4514062 ,\n",
       "       2.4614506 , 2.471495  , 2.4815392 , 2.4915833 , 2.5016277 ,\n",
       "       2.511672  , 2.5217164 , 2.5317605 , 2.5418048 , 2.5518491 ,\n",
       "       2.5618935 , 2.5719376 , 2.581982  , 2.5920262 , 2.6020706 ,\n",
       "       2.6121147 , 2.622159  , 2.6322033 , 2.6422477 , 2.6522918 ,\n",
       "       2.662336  , 2.6723804 , 2.6824248 , 2.692469  , 2.7025132 ,\n",
       "       2.7125576 , 2.722602  , 2.732646  , 2.7426903 , 2.7527347 ,\n",
       "       2.762779  , 2.772823  , 2.7828674 , 2.7929118 , 2.802956  ,\n",
       "       2.8130004 , 2.8230445 , 2.8330889 , 2.8431332 , 2.8531775 ,\n",
       "       2.8632216 , 2.873266  , 2.8833103 , 2.8933547 , 2.9033988 ,\n",
       "       2.913443  , 2.9234874 , 2.9335318 , 2.9435759 , 2.9536202 ,\n",
       "       2.9636645 , 2.9737089 , 2.983753  , 2.9937973 , 3.0038416 ,\n",
       "       3.013886  , 3.02393   , 3.0339744 , 3.0440187 , 3.054063  ,\n",
       "       3.0641072 , 3.0741515 , 3.0841959 , 3.0942402 , 3.1042845 ,\n",
       "       3.1143286 , 3.124373  , 3.1344173 , 3.1444616 , 3.1545057 ,\n",
       "       3.16455   , 3.1745944 , 3.1846387 , 3.1946828 , 3.2047272 ,\n",
       "       3.2147715 , 3.2248158 , 3.23486   , 3.2449043 , 3.2549486 ,\n",
       "       3.264993  , 3.275037  , 3.2850814 , 3.2951257 , 3.30517   ,\n",
       "       3.3152142 , 3.3252585 , 3.3353028 , 3.3453472 , 3.3553913 ,\n",
       "       3.3654356 , 3.37548   , 3.3855243 , 3.3955686 , 3.4056127 ,\n",
       "       3.415657  , 3.4257014 , 3.4357457 , 3.4457898 , 3.4558342 ,\n",
       "       3.4658785 , 3.4759228 , 3.485967  , 3.4960113 , 3.5060556 ,\n",
       "       3.5161    , 3.526144  , 3.5361884 , 3.5462327 , 3.556277  ,\n",
       "       3.5663211 , 3.5763655 , 3.5864098 , 3.5964541 , 3.6064982 ,\n",
       "       3.6165426 , 3.626587  , 3.6366313 , 3.6466753 , 3.6567197 ,\n",
       "       3.666764  , 3.6768084 , 3.6868527 , 3.6968968 , 3.7069411 ,\n",
       "       3.7169855 , 3.7270298 , 3.737074  , 3.7471182 , 3.7571626 ,\n",
       "       3.767207  , 3.777251  , 3.7872953 , 3.7973397 , 3.807384  ,\n",
       "       3.817428  , 3.8274724 , 3.8375168 , 3.8475611 , 3.8576052 ,\n",
       "       3.8676496 , 3.877694  , 3.8877382 , 3.8977823 , 3.9078267 ,\n",
       "       3.917871  , 3.9279153 , 3.9379594 , 3.9480038 , 3.958048  ,\n",
       "       3.9680924 , 3.9781365 , 3.9881809 , 3.9982252 , 4.0082693 ,\n",
       "       4.018314  , 4.028358  , 4.0384026 , 4.0484467 , 4.0584908 ,\n",
       "       4.0685353 , 4.0785794 , 4.0886235 , 4.098668  , 4.108712  ,\n",
       "       4.118757  , 4.128801  , 4.138845  , 4.1488895 , 4.1589336 ,\n",
       "       4.1689777 , 4.1790223 , 4.1890664 , 4.199111  , 4.209155  ,\n",
       "       4.219199  , 4.2292438 , 4.239288  , 4.249332  , 4.2593765 ,\n",
       "       4.2694206 , 4.279465  , 4.2895093 , 4.2995534 , 4.309598  ,\n",
       "       4.319642  , 4.3296866 , 4.3397307 , 4.349775  , 4.3598194 ,\n",
       "       4.3698635 , 4.3799076 , 4.389952  , 4.3999963 , 4.410041  ,\n",
       "       4.420085  , 4.430129  , 4.4401736 , 4.4502177 , 4.460262  ,\n",
       "       4.4703064 , 4.4803505 , 4.490395  , 4.500439  , 4.5104833 ,\n",
       "       4.520528  , 4.530572  , 4.540616  , 4.5506606 , 4.5607047 ,\n",
       "       4.5707493 , 4.5807934 , 4.5908375 , 4.600882  , 4.610926  ,\n",
       "       4.6209707 , 4.631015  , 4.641059  , 4.6511035 , 4.6611476 ,\n",
       "       4.6711917 , 4.6812363 , 4.6912804 , 4.701325  , 4.711369  ,\n",
       "       4.721413  , 4.7314577 , 4.741502  , 4.751546  , 4.7615905 ,\n",
       "       4.7716346 , 4.781679  , 4.7917233 , 4.8017673 , 4.811812  ,\n",
       "       4.821856  , 4.8319    , 4.8419447 , 4.851989  , 4.8620334 ,\n",
       "       4.8720775 , 4.8821216 , 4.892166  , 4.90221   , 4.912255  ,\n",
       "       4.922299  , 4.932343  , 4.9423876 , 4.9524317 , 4.962476  ,\n",
       "       4.9725204 , 4.9825644 , 4.992609  , 5.002653  , 5.012697  ,\n",
       "       5.022742  , 5.032786  , 5.04283   , 5.0528746 , 5.0629187 ,\n",
       "       5.072963  , 5.0830073 , 5.0930514 , 5.103096  , 5.11314   ,\n",
       "       5.123184  , 5.133229  , 5.143273  , 5.1533175 , 5.1633615 ,\n",
       "       5.1734056 , 5.18345   , 5.1934943 , 5.203539  , 5.213583  ,\n",
       "       5.223627  , 5.2336717 , 5.243716  , 5.25376   , 5.2638044 ,\n",
       "       5.2738485 , 5.283893  , 5.293937  , 5.3039813 , 5.314026  ,\n",
       "       5.32407   , 5.334114  , 5.3441586 , 5.3542027 , 5.3642473 ],\n",
       "      dtype=float32)"
      ]
     },
     "execution_count": 5,
     "metadata": {},
     "output_type": "execute_result"
    }
   ],
   "source": [
    "test.spec_wobs"
   ]
  },
  {
   "cell_type": "code",
   "execution_count": 7,
   "metadata": {},
   "outputs": [
    {
     "data": {
      "text/plain": [
       "array([ 0.        ,  0.        ,  0.        ,  0.        ,  0.        ,\n",
       "        0.        ,  0.        ,  0.17572327,  0.15336145,  0.18460391,\n",
       "        0.23012993,  0.28905913,  0.29652712,  0.2690856 ,  0.283257  ,\n",
       "        0.32154623,  0.33469117,  0.3696483 ,  0.3868451 ,  0.44534287,\n",
       "        0.4477027 ,  0.45536223,  0.5063964 ,  0.51536393,  0.49446452,\n",
       "        0.54499245,  0.56930804,  0.6258007 ,  0.64080065,  0.65835893,\n",
       "        0.66499215,  0.71782726,  0.73695797,  0.7375102 ,  0.80516523,\n",
       "        0.9158398 ,  1.0523053 ,  1.1748568 ,  1.1732209 ,  1.3004771 ,\n",
       "        1.3529545 ,  1.3741347 ,  1.4067327 ,  1.4903766 ,  1.5593704 ,\n",
       "        1.6134467 ,  1.6262648 ,  1.7154367 ,  1.7527344 ,  1.7957207 ,\n",
       "        1.84026   ,  1.8412802 ,  1.8329778 ,  1.8970834 ,  1.9236703 ,\n",
       "        1.9500153 ,  1.9932832 ,  2.0105572 ,  2.1612906 ,  2.2104044 ,\n",
       "        2.2125344 ,  2.2777584 ,  2.3481982 ,  2.4041266 ,  2.5258234 ,\n",
       "        2.6546183 ,  2.7390873 ,  2.9868345 ,  3.0133734 ,  2.8851652 ,\n",
       "        2.716738  ,  2.555439  ,  2.5553274 ,  2.6482463 ,  2.7381372 ,\n",
       "        2.843045  ,  2.9752934 ,  3.069866  ,  3.0377352 ,  2.9909365 ,\n",
       "        2.9621966 ,  3.043444  ,  3.1310098 ,  3.2147174 ,  3.347607  ,\n",
       "        3.3795063 ,  3.380377  ,  3.4318612 ,  3.4789016 ,  3.4016168 ,\n",
       "        3.420171  ,  3.4676173 ,  3.6712558 ,  3.7803872 ,  3.7999332 ,\n",
       "        3.836203  ,  3.8933005 ,  3.829874  ,  3.8930228 ,  4.0653725 ,\n",
       "        4.0906167 ,  4.0763264 ,  4.182728  ,  4.521282  ,  6.1931024 ,\n",
       "        7.2373257 ,  9.02961   ,  8.782374  ,  6.5144186 ,  5.6373177 ,\n",
       "        5.001918  ,  4.8115    ,  4.4054527 ,  4.27727   ,  4.2410293 ,\n",
       "        4.3518777 ,  4.4121523 ,  4.479885  ,  4.4389553 ,  4.5519037 ,\n",
       "        4.480228  ,  4.4868503 ,  4.564417  ,  4.6670976 ,  4.67924   ,\n",
       "        4.900936  ,  4.9988637 ,  4.8800974 ,  4.9222426 ,  5.048021  ,\n",
       "        4.7855935 ,  4.8689194 ,  4.994287  ,  4.8850107 ,  5.018369  ,\n",
       "        5.047079  ,  5.0681586 ,  5.2078323 ,  5.176645  ,  5.169922  ,\n",
       "        5.203711  ,  5.184017  ,  5.3583245 ,  5.5011506 ,  5.5412374 ,\n",
       "        5.434505  ,  5.3824553 ,  5.5372586 ,  5.663002  ,  5.7526264 ,\n",
       "        5.6705217 ,  5.6475806 ,  5.6848063 ,  5.737889  ,  5.775899  ,\n",
       "        5.8421946 ,  5.8539577 ,  5.8582    ,  5.880066  ,  6.006972  ,\n",
       "        6.403242  ,  6.523033  ,  6.511679  ,  6.437533  ,  6.5134554 ,\n",
       "        6.821034  ,  7.1340494 ,  7.4199667 ,  7.490601  ,  7.2320533 ,\n",
       "        6.970731  ,  6.769783  ,  6.8997803 ,  6.850273  ,  6.8906775 ,\n",
       "        6.8435283 ,  6.8062644 ,  7.3934574 ,  8.5499735 ,  8.655767  ,\n",
       "        8.274215  ,  7.530277  ,  7.160749  ,  7.219452  ,  7.4358864 ,\n",
       "        7.461544  ,  7.602892  ,  7.6721487 ,  7.7709856 ,  7.7680154 ,\n",
       "        7.92177   ,  8.202889  ,  8.36628   ,  8.347636  ,  8.011645  ,\n",
       "        7.9573245 ,  8.103145  ,  8.173609  ,  8.152365  ,  8.292381  ,\n",
       "        8.353373  ,  8.135344  ,  8.284352  ,  8.345866  ,  8.446405  ,\n",
       "        8.5901985 ,  8.670066  ,  8.434799  ,  8.577393  ,  9.392867  ,\n",
       "       10.360438  , 10.788683  ,  9.853529  ,  8.925296  ,  8.578043  ,\n",
       "        7.863273  ,  8.017359  ,  8.118789  ,  8.314174  ,  8.446279  ,\n",
       "        8.622966  ,  8.366957  ,  8.30478   ,  8.211759  ,  8.106939  ,\n",
       "        8.401148  ,  8.850779  ,  8.674994  ,  9.008366  ,  8.739731  ,\n",
       "        8.999085  ,  8.629168  ,  8.7843075 ,  9.01779   ,  9.293297  ,\n",
       "        9.156323  ,  9.47633   ,  9.130685  ,  9.175693  ,  8.320894  ,\n",
       "        8.98176   ,  8.427248  ,  9.09045   ,  8.922636  ,  9.395286  ,\n",
       "        9.561917  ,  9.436039  ,  9.153674  ,  9.399772  ,  9.442661  ,\n",
       "        9.792063  ,  9.485486  , 10.086063  , 10.383431  , 10.037969  ,\n",
       "        9.445341  ,  9.488987  ,  9.810212  , 10.461932  , 12.143077  ,\n",
       "       11.765653  , 10.377255  , 10.011121  , 10.051594  , 10.031683  ,\n",
       "       10.100861  ,  9.991216  ,  9.651123  , 10.073054  ,  9.88705   ,\n",
       "        9.668265  ,  9.920448  ,  9.905495  ,  9.762568  , 10.029903  ,\n",
       "        9.972816  , 10.106291  , 10.08882   ,  9.902439  ,  9.386742  ,\n",
       "       10.107624  , 10.216811  , 10.219037  , 10.4038315 , 10.460883  ,\n",
       "       10.202643  , 10.093662  , 10.0886965 ,  9.90778   ,  9.859538  ,\n",
       "        9.736902  ,  9.687626  ,  9.406666  ,  9.506044  ,  9.138101  ,\n",
       "        9.542482  ,  9.855568  ,  9.821678  , 10.035474  ,  9.828861  ,\n",
       "        9.901511  ,  9.836199  ,  9.9007845 ,  9.47639   ,  9.588062  ,\n",
       "        9.483105  ,  9.624559  ,  9.711635  , 10.078566  , 10.465884  ,\n",
       "       10.239978  , 10.622868  , 10.452544  , 10.167553  ,  9.872008  ,\n",
       "       10.122564  , 10.578189  , 10.293955  , 10.393389  , 10.117787  ,\n",
       "       10.394815  , 10.092752  , 10.360017  , 10.726624  , 10.825401  ,\n",
       "       10.802781  , 10.653919  ,  9.57993   , 10.462147  , 11.252558  ,\n",
       "       10.132655  , 10.712731  , 10.788439  , 10.809125  ,  9.49966   ,\n",
       "       10.624915  , 11.041262  , 10.7133255 , 10.677442  , 10.991402  ,\n",
       "       11.128588  , 11.638725  , 10.663557  , 10.62415   , 11.000982  ,\n",
       "       10.650098  , 11.378666  , 11.804247  , 12.771261  , 12.24902   ,\n",
       "       11.302988  , 11.268223  , 11.475371  , 10.874551  , 11.193804  ,\n",
       "       11.264706  , 11.206934  , 11.37009   , 11.45599   , 11.077588  ,\n",
       "       11.362659  , 11.477215  , 11.2463    , 11.647244  , 10.606917  ,\n",
       "       11.314439  , 11.656735  , 11.321908  , 10.311461  , 10.939139  ,\n",
       "       10.955801  , 10.701387  , 10.940432  , 11.102676  , 10.42365   ,\n",
       "       10.537381  , 12.354717  , 11.402547  , 10.760969  , 10.593659  ,\n",
       "       10.327158  , 10.335381  ,  9.737914  ,  8.812917  , 10.027132  ,\n",
       "       11.27042   , 10.546115  , 10.326443  , 10.779978  , 11.348233  ,\n",
       "       10.6692505 , 10.692509  , 10.569267  , 10.307054  , 10.641029  ,\n",
       "       10.677576  , 10.299957  , 10.113971  , 10.033592  , 10.3621235 ,\n",
       "       10.17039   , 10.053126  , 10.432567  , 10.455889  , 19.939903  ,\n",
       "       25.77575   , 13.079954  ,  9.903508  , 10.38139   , 10.1919565 ,\n",
       "       10.095652  , 10.102617  , 10.145398  ,  9.813272  , 10.397341  ,\n",
       "       10.3559885 ,  9.347879  ,  9.710084  ,  9.02231   , 10.019365  ,\n",
       "       10.021934  ,  9.547983  , 11.512564  , 10.235595  , 10.084878  ,\n",
       "        9.902481  ,  9.776326  ,  9.535124  ,  9.596908  ,  9.981145  ,\n",
       "        9.657861  ,  9.590161  ,  9.143549  ,  9.762603  ,  9.53763   ,\n",
       "        9.245179  , 10.159997  , 10.105554  ,  9.7539625 ,  9.883781  ,\n",
       "        9.913293  ,  9.795833  ,  9.413851  , 10.358812  ,  9.857394  ,\n",
       "        9.566212  , 10.084122  , 10.539095  ,  9.6271715 , 10.212516  ,\n",
       "       10.551192  ,  9.837725  , 10.468831  , 10.210687  , 11.081128  ,\n",
       "       11.051975  ,  9.612192  ,  9.630295  ,  9.439485  , 10.063549  ,\n",
       "       10.547238  ,  9.7159    ,  8.941529  ,  9.379514  , 10.088491  ,\n",
       "       10.0964575 ,  9.316126  ,  8.695168  ,  8.221811  ,  8.840746  ,\n",
       "        8.207928  ,  0.        ,  0.        ,  0.        ,  0.        ,\n",
       "        0.        ,  0.        ,  0.        ,  0.        ,  0.        ],\n",
       "      dtype=float32)"
      ]
     },
     "execution_count": 7,
     "metadata": {},
     "output_type": "execute_result"
    }
   ],
   "source": [
    "test.spec_fnu"
   ]
  },
  {
   "cell_type": "code",
   "execution_count": 8,
   "metadata": {},
   "outputs": [
    {
     "data": {
      "text/plain": [
       "[<matplotlib.lines.Line2D at 0x7f88edea25e0>]"
      ]
     },
     "execution_count": 8,
     "metadata": {},
     "output_type": "execute_result"
    },
    {
     "data": {
      "image/png": "[encoded data removed]",
      "text/plain": [
       "<Figure size 640x480 with 1 Axes>"
      ]
     },
     "metadata": {},
     "output_type": "display_data"
    }
   ],
   "source": [
    "import matplotlib.pyplot as plt\n",
    "\n",
    "plt.plot(test.spec_wobs,test.spec_fnu)"
   ]
  },
  {
   "cell_type": "code",
   "execution_count": null,
   "metadata": {},
   "outputs": [],
   "source": []
  }
 ],
 "metadata": {
  "kernelspec": {
   "display_name": "Python 3",
   "language": "python",
   "name": "python3"
  },
  "language_info": {
   "codemirror_mode": {
    "name": "ipython",
    "version": 3
   },
   "file_extension": ".py",
   "mimetype": "text/x-python",
   "name": "python",
   "nbconvert_exporter": "python",
   "pygments_lexer": "ipython3",
   "version": "3.9.16"
  },
  "orig_nbformat": 4
 },
 "nbformat": 4,
 "nbformat_minor": 2
}
